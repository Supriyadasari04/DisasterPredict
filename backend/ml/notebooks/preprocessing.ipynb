{
 "cells": [
  {
   "cell_type": "code",
   "execution_count": 2,
   "metadata": {},
   "outputs": [
    {
     "data": {
      "text/plain": [
       "['EM-DAT Data']"
      ]
     },
     "execution_count": 2,
     "metadata": {},
     "output_type": "execute_result"
    }
   ],
   "source": [
    "import pandas as pd\n",
    "from sklearn.preprocessing import LabelEncoder\n",
    "file_path = \"../datasets/public_emdat.xlsx\"\n",
    "df = pd.ExcelFile(file_path)\n",
    "\n",
    "df.sheet_names\n"
   ]
  },
  {
   "cell_type": "code",
   "execution_count": 4,
   "metadata": {},
   "outputs": [
    {
     "name": "stdout",
     "output_type": "stream",
     "text": [
      "int64\n"
     ]
    }
   ],
   "source": [
    "df = pd.read_csv('../processed/disaster_data_processed.csv')\n",
    "print(df['Disaster Type'].dtype)  # Should show int64"
   ]
  },
  {
   "cell_type": "code",
   "execution_count": 5,
   "metadata": {},
   "outputs": [
    {
     "name": "stdout",
     "output_type": "stream",
     "text": [
      "Disaster Type\n",
      "4    4130\n",
      "7    2700\n",
      "2     879\n",
      "1     675\n",
      "3     543\n",
      "5     479\n",
      "0     419\n",
      "9     324\n",
      "8     131\n",
      "6      50\n",
      "Name: count, dtype: int64\n"
     ]
    }
   ],
   "source": [
    "print(df['Disaster Type'].value_counts())"
   ]
  },
  {
   "cell_type": "code",
   "execution_count": 74,
   "metadata": {},
   "outputs": [
    {
     "data": {
      "text/html": [
       "<div>\n",
       "<style scoped>\n",
       "    .dataframe tbody tr th:only-of-type {\n",
       "        vertical-align: middle;\n",
       "    }\n",
       "\n",
       "    .dataframe tbody tr th {\n",
       "        vertical-align: top;\n",
       "    }\n",
       "\n",
       "    .dataframe thead th {\n",
       "        text-align: right;\n",
       "    }\n",
       "</style>\n",
       "<table border=\"1\" class=\"dataframe\">\n",
       "  <thead>\n",
       "    <tr style=\"text-align: right;\">\n",
       "      <th></th>\n",
       "      <th>DisNo.</th>\n",
       "      <th>Historic</th>\n",
       "      <th>Classification Key</th>\n",
       "      <th>Disaster Group</th>\n",
       "      <th>Disaster Subgroup</th>\n",
       "      <th>Disaster Type</th>\n",
       "      <th>Disaster Subtype</th>\n",
       "      <th>External IDs</th>\n",
       "      <th>Event Name</th>\n",
       "      <th>ISO</th>\n",
       "      <th>...</th>\n",
       "      <th>Reconstruction Costs ('000 US$)</th>\n",
       "      <th>Reconstruction Costs, Adjusted ('000 US$)</th>\n",
       "      <th>Insured Damage ('000 US$)</th>\n",
       "      <th>Insured Damage, Adjusted ('000 US$)</th>\n",
       "      <th>Total Damage ('000 US$)</th>\n",
       "      <th>Total Damage, Adjusted ('000 US$)</th>\n",
       "      <th>CPI</th>\n",
       "      <th>Admin Units</th>\n",
       "      <th>Entry Date</th>\n",
       "      <th>Last Update</th>\n",
       "    </tr>\n",
       "  </thead>\n",
       "  <tbody>\n",
       "    <tr>\n",
       "      <th>0</th>\n",
       "      <td>1999-9388-DJI</td>\n",
       "      <td>No</td>\n",
       "      <td>nat-cli-dro-dro</td>\n",
       "      <td>Natural</td>\n",
       "      <td>Climatological</td>\n",
       "      <td>Drought</td>\n",
       "      <td>Drought</td>\n",
       "      <td>NaN</td>\n",
       "      <td>NaN</td>\n",
       "      <td>DJI</td>\n",
       "      <td>...</td>\n",
       "      <td>NaN</td>\n",
       "      <td>NaN</td>\n",
       "      <td>NaN</td>\n",
       "      <td>NaN</td>\n",
       "      <td>NaN</td>\n",
       "      <td>NaN</td>\n",
       "      <td>58.111474</td>\n",
       "      <td>[{\"adm1_code\":1093,\"adm1_name\":\"Ali Sabieh\"},{...</td>\n",
       "      <td>2006-03-01</td>\n",
       "      <td>2023-09-25</td>\n",
       "    </tr>\n",
       "    <tr>\n",
       "      <th>1</th>\n",
       "      <td>1999-9388-SDN</td>\n",
       "      <td>No</td>\n",
       "      <td>nat-cli-dro-dro</td>\n",
       "      <td>Natural</td>\n",
       "      <td>Climatological</td>\n",
       "      <td>Drought</td>\n",
       "      <td>Drought</td>\n",
       "      <td>NaN</td>\n",
       "      <td>NaN</td>\n",
       "      <td>SDN</td>\n",
       "      <td>...</td>\n",
       "      <td>NaN</td>\n",
       "      <td>NaN</td>\n",
       "      <td>NaN</td>\n",
       "      <td>NaN</td>\n",
       "      <td>NaN</td>\n",
       "      <td>NaN</td>\n",
       "      <td>56.514291</td>\n",
       "      <td>[{\"adm1_code\":2757,\"adm1_name\":\"Northern Darfu...</td>\n",
       "      <td>2006-03-08</td>\n",
       "      <td>2023-09-25</td>\n",
       "    </tr>\n",
       "    <tr>\n",
       "      <th>2</th>\n",
       "      <td>1999-9388-SOM</td>\n",
       "      <td>No</td>\n",
       "      <td>nat-cli-dro-dro</td>\n",
       "      <td>Natural</td>\n",
       "      <td>Climatological</td>\n",
       "      <td>Drought</td>\n",
       "      <td>Drought</td>\n",
       "      <td>NaN</td>\n",
       "      <td>NaN</td>\n",
       "      <td>SOM</td>\n",
       "      <td>...</td>\n",
       "      <td>NaN</td>\n",
       "      <td>NaN</td>\n",
       "      <td>NaN</td>\n",
       "      <td>NaN</td>\n",
       "      <td>NaN</td>\n",
       "      <td>NaN</td>\n",
       "      <td>56.514291</td>\n",
       "      <td>[{\"adm1_code\":2691,\"adm1_name\":\"Bay\"},{\"adm1_c...</td>\n",
       "      <td>2006-03-08</td>\n",
       "      <td>2023-09-25</td>\n",
       "    </tr>\n",
       "    <tr>\n",
       "      <th>3</th>\n",
       "      <td>2000-0002-AGO</td>\n",
       "      <td>No</td>\n",
       "      <td>nat-hyd-flo-riv</td>\n",
       "      <td>Natural</td>\n",
       "      <td>Hydrological</td>\n",
       "      <td>Flood</td>\n",
       "      <td>Riverine flood</td>\n",
       "      <td>NaN</td>\n",
       "      <td>NaN</td>\n",
       "      <td>AGO</td>\n",
       "      <td>...</td>\n",
       "      <td>NaN</td>\n",
       "      <td>NaN</td>\n",
       "      <td>NaN</td>\n",
       "      <td>NaN</td>\n",
       "      <td>10000.0</td>\n",
       "      <td>17695.0</td>\n",
       "      <td>56.514291</td>\n",
       "      <td>[{\"adm2_code\":4214,\"adm2_name\":\"Baia Farta\"},{...</td>\n",
       "      <td>2005-02-03</td>\n",
       "      <td>2023-09-25</td>\n",
       "    </tr>\n",
       "    <tr>\n",
       "      <th>4</th>\n",
       "      <td>2000-0003-BGD</td>\n",
       "      <td>No</td>\n",
       "      <td>nat-met-ext-col</td>\n",
       "      <td>Natural</td>\n",
       "      <td>Meteorological</td>\n",
       "      <td>Extreme temperature</td>\n",
       "      <td>Cold wave</td>\n",
       "      <td>NaN</td>\n",
       "      <td>NaN</td>\n",
       "      <td>BGD</td>\n",
       "      <td>...</td>\n",
       "      <td>NaN</td>\n",
       "      <td>NaN</td>\n",
       "      <td>NaN</td>\n",
       "      <td>NaN</td>\n",
       "      <td>NaN</td>\n",
       "      <td>NaN</td>\n",
       "      <td>56.514291</td>\n",
       "      <td>[{\"adm1_code\":575,\"adm1_name\":\"Barisal\"},{\"adm...</td>\n",
       "      <td>2003-07-01</td>\n",
       "      <td>2023-09-25</td>\n",
       "    </tr>\n",
       "  </tbody>\n",
       "</table>\n",
       "<p>5 rows × 46 columns</p>\n",
       "</div>"
      ],
      "text/plain": [
       "          DisNo. Historic Classification Key Disaster Group Disaster Subgroup  \\\n",
       "0  1999-9388-DJI       No    nat-cli-dro-dro        Natural    Climatological   \n",
       "1  1999-9388-SDN       No    nat-cli-dro-dro        Natural    Climatological   \n",
       "2  1999-9388-SOM       No    nat-cli-dro-dro        Natural    Climatological   \n",
       "3  2000-0002-AGO       No    nat-hyd-flo-riv        Natural      Hydrological   \n",
       "4  2000-0003-BGD       No    nat-met-ext-col        Natural    Meteorological   \n",
       "\n",
       "         Disaster Type Disaster Subtype External IDs Event Name  ISO  ...  \\\n",
       "0              Drought          Drought          NaN        NaN  DJI  ...   \n",
       "1              Drought          Drought          NaN        NaN  SDN  ...   \n",
       "2              Drought          Drought          NaN        NaN  SOM  ...   \n",
       "3                Flood   Riverine flood          NaN        NaN  AGO  ...   \n",
       "4  Extreme temperature        Cold wave          NaN        NaN  BGD  ...   \n",
       "\n",
       "  Reconstruction Costs ('000 US$) Reconstruction Costs, Adjusted ('000 US$)  \\\n",
       "0                             NaN                                       NaN   \n",
       "1                             NaN                                       NaN   \n",
       "2                             NaN                                       NaN   \n",
       "3                             NaN                                       NaN   \n",
       "4                             NaN                                       NaN   \n",
       "\n",
       "  Insured Damage ('000 US$) Insured Damage, Adjusted ('000 US$)  \\\n",
       "0                       NaN                                 NaN   \n",
       "1                       NaN                                 NaN   \n",
       "2                       NaN                                 NaN   \n",
       "3                       NaN                                 NaN   \n",
       "4                       NaN                                 NaN   \n",
       "\n",
       "  Total Damage ('000 US$) Total Damage, Adjusted ('000 US$)        CPI  \\\n",
       "0                     NaN                               NaN  58.111474   \n",
       "1                     NaN                               NaN  56.514291   \n",
       "2                     NaN                               NaN  56.514291   \n",
       "3                 10000.0                           17695.0  56.514291   \n",
       "4                     NaN                               NaN  56.514291   \n",
       "\n",
       "                                         Admin Units  Entry Date  Last Update  \n",
       "0  [{\"adm1_code\":1093,\"adm1_name\":\"Ali Sabieh\"},{...  2006-03-01   2023-09-25  \n",
       "1  [{\"adm1_code\":2757,\"adm1_name\":\"Northern Darfu...  2006-03-08   2023-09-25  \n",
       "2  [{\"adm1_code\":2691,\"adm1_name\":\"Bay\"},{\"adm1_c...  2006-03-08   2023-09-25  \n",
       "3  [{\"adm2_code\":4214,\"adm2_name\":\"Baia Farta\"},{...  2005-02-03   2023-09-25  \n",
       "4  [{\"adm1_code\":575,\"adm1_name\":\"Barisal\"},{\"adm...  2003-07-01   2023-09-25  \n",
       "\n",
       "[5 rows x 46 columns]"
      ]
     },
     "execution_count": 74,
     "metadata": {},
     "output_type": "execute_result"
    }
   ],
   "source": [
    "df_data = df.parse('EM-DAT Data')\n",
    "\n",
    "df_data.head()\n"
   ]
  },
  {
   "cell_type": "code",
   "execution_count": 75,
   "metadata": {},
   "outputs": [
    {
     "name": "stdout",
     "output_type": "stream",
     "text": [
      "<class 'pandas.core.frame.DataFrame'>\n",
      "RangeIndex: 10330 entries, 0 to 10329\n",
      "Data columns (total 46 columns):\n",
      " #   Column                                     Non-Null Count  Dtype  \n",
      "---  ------                                     --------------  -----  \n",
      " 0   DisNo.                                     10330 non-null  object \n",
      " 1   Historic                                   10330 non-null  object \n",
      " 2   Classification Key                         10330 non-null  object \n",
      " 3   Disaster Group                             10330 non-null  object \n",
      " 4   Disaster Subgroup                          10330 non-null  object \n",
      " 5   Disaster Type                              10330 non-null  object \n",
      " 6   Disaster Subtype                           10330 non-null  object \n",
      " 7   External IDs                               2635 non-null   object \n",
      " 8   Event Name                                 2535 non-null   object \n",
      " 9   ISO                                        10330 non-null  object \n",
      " 10  Country                                    10330 non-null  object \n",
      " 11  Subregion                                  10330 non-null  object \n",
      " 12  Region                                     10330 non-null  object \n",
      " 13  Location                                   9909 non-null   object \n",
      " 14  Origin                                     3901 non-null   object \n",
      " 15  Associated Types                           3366 non-null   object \n",
      " 16  OFDA/BHA Response                          10330 non-null  object \n",
      " 17  Appeal                                     10330 non-null  object \n",
      " 18  Declaration                                10330 non-null  object \n",
      " 19  AID Contribution ('000 US$)                481 non-null    float64\n",
      " 20  Magnitude                                  3334 non-null   float64\n",
      " 21  Magnitude Scale                            9241 non-null   object \n",
      " 22  Latitude                                   1822 non-null   float64\n",
      " 23  Longitude                                  1822 non-null   float64\n",
      " 24  River Basin                                1208 non-null   object \n",
      " 25  Start Year                                 10330 non-null  int64  \n",
      " 26  Start Month                                10262 non-null  float64\n",
      " 27  Start Day                                  8815 non-null   float64\n",
      " 28  End Year                                   10330 non-null  int64  \n",
      " 29  End Month                                  10167 non-null  float64\n",
      " 30  End Day                                    8879 non-null   float64\n",
      " 31  Total Deaths                               7374 non-null   float64\n",
      " 32  No. Injured                                2923 non-null   float64\n",
      " 33  No. Affected                               6819 non-null   float64\n",
      " 34  No. Homeless                               1224 non-null   float64\n",
      " 35  Total Affected                             8349 non-null   float64\n",
      " 36  Reconstruction Costs ('000 US$)            31 non-null     float64\n",
      " 37  Reconstruction Costs, Adjusted ('000 US$)  31 non-null     float64\n",
      " 38  Insured Damage ('000 US$)                  710 non-null    float64\n",
      " 39  Insured Damage, Adjusted ('000 US$)        692 non-null    float64\n",
      " 40  Total Damage ('000 US$)                    3195 non-null   float64\n",
      " 41  Total Damage, Adjusted ('000 US$)          3076 non-null   float64\n",
      " 42  CPI                                        9890 non-null   float64\n",
      " 43  Admin Units                                8437 non-null   object \n",
      " 44  Entry Date                                 10330 non-null  object \n",
      " 45  Last Update                                10330 non-null  object \n",
      "dtypes: float64(20), int64(2), object(24)\n",
      "memory usage: 3.6+ MB\n"
     ]
    }
   ],
   "source": [
    "df_data.info()"
   ]
  },
  {
   "cell_type": "code",
   "execution_count": 76,
   "metadata": {},
   "outputs": [
    {
     "data": {
      "text/html": [
       "<div>\n",
       "<style scoped>\n",
       "    .dataframe tbody tr th:only-of-type {\n",
       "        vertical-align: middle;\n",
       "    }\n",
       "\n",
       "    .dataframe tbody tr th {\n",
       "        vertical-align: top;\n",
       "    }\n",
       "\n",
       "    .dataframe thead th {\n",
       "        text-align: right;\n",
       "    }\n",
       "</style>\n",
       "<table border=\"1\" class=\"dataframe\">\n",
       "  <thead>\n",
       "    <tr style=\"text-align: right;\">\n",
       "      <th></th>\n",
       "      <th>DisNo.</th>\n",
       "      <th>Historic</th>\n",
       "      <th>Classification Key</th>\n",
       "      <th>Disaster Group</th>\n",
       "      <th>Disaster Subgroup</th>\n",
       "      <th>Disaster Type</th>\n",
       "      <th>Disaster Subtype</th>\n",
       "      <th>External IDs</th>\n",
       "      <th>Event Name</th>\n",
       "      <th>ISO</th>\n",
       "      <th>...</th>\n",
       "      <th>Reconstruction Costs ('000 US$)</th>\n",
       "      <th>Reconstruction Costs, Adjusted ('000 US$)</th>\n",
       "      <th>Insured Damage ('000 US$)</th>\n",
       "      <th>Insured Damage, Adjusted ('000 US$)</th>\n",
       "      <th>Total Damage ('000 US$)</th>\n",
       "      <th>Total Damage, Adjusted ('000 US$)</th>\n",
       "      <th>CPI</th>\n",
       "      <th>Admin Units</th>\n",
       "      <th>Entry Date</th>\n",
       "      <th>Last Update</th>\n",
       "    </tr>\n",
       "  </thead>\n",
       "  <tbody>\n",
       "    <tr>\n",
       "      <th>0</th>\n",
       "      <td>1999-9388-DJI</td>\n",
       "      <td>No</td>\n",
       "      <td>nat-cli-dro-dro</td>\n",
       "      <td>Natural</td>\n",
       "      <td>Climatological</td>\n",
       "      <td>Drought</td>\n",
       "      <td>Drought</td>\n",
       "      <td>NaN</td>\n",
       "      <td>NaN</td>\n",
       "      <td>DJI</td>\n",
       "      <td>...</td>\n",
       "      <td>NaN</td>\n",
       "      <td>NaN</td>\n",
       "      <td>NaN</td>\n",
       "      <td>NaN</td>\n",
       "      <td>NaN</td>\n",
       "      <td>NaN</td>\n",
       "      <td>58.111474</td>\n",
       "      <td>[{\"adm1_code\":1093,\"adm1_name\":\"Ali Sabieh\"},{...</td>\n",
       "      <td>2006-03-01</td>\n",
       "      <td>2023-09-25</td>\n",
       "    </tr>\n",
       "    <tr>\n",
       "      <th>1</th>\n",
       "      <td>1999-9388-SDN</td>\n",
       "      <td>No</td>\n",
       "      <td>nat-cli-dro-dro</td>\n",
       "      <td>Natural</td>\n",
       "      <td>Climatological</td>\n",
       "      <td>Drought</td>\n",
       "      <td>Drought</td>\n",
       "      <td>NaN</td>\n",
       "      <td>NaN</td>\n",
       "      <td>SDN</td>\n",
       "      <td>...</td>\n",
       "      <td>NaN</td>\n",
       "      <td>NaN</td>\n",
       "      <td>NaN</td>\n",
       "      <td>NaN</td>\n",
       "      <td>NaN</td>\n",
       "      <td>NaN</td>\n",
       "      <td>56.514291</td>\n",
       "      <td>[{\"adm1_code\":2757,\"adm1_name\":\"Northern Darfu...</td>\n",
       "      <td>2006-03-08</td>\n",
       "      <td>2023-09-25</td>\n",
       "    </tr>\n",
       "    <tr>\n",
       "      <th>2</th>\n",
       "      <td>1999-9388-SOM</td>\n",
       "      <td>No</td>\n",
       "      <td>nat-cli-dro-dro</td>\n",
       "      <td>Natural</td>\n",
       "      <td>Climatological</td>\n",
       "      <td>Drought</td>\n",
       "      <td>Drought</td>\n",
       "      <td>NaN</td>\n",
       "      <td>NaN</td>\n",
       "      <td>SOM</td>\n",
       "      <td>...</td>\n",
       "      <td>NaN</td>\n",
       "      <td>NaN</td>\n",
       "      <td>NaN</td>\n",
       "      <td>NaN</td>\n",
       "      <td>NaN</td>\n",
       "      <td>NaN</td>\n",
       "      <td>56.514291</td>\n",
       "      <td>[{\"adm1_code\":2691,\"adm1_name\":\"Bay\"},{\"adm1_c...</td>\n",
       "      <td>2006-03-08</td>\n",
       "      <td>2023-09-25</td>\n",
       "    </tr>\n",
       "    <tr>\n",
       "      <th>3</th>\n",
       "      <td>2000-0002-AGO</td>\n",
       "      <td>No</td>\n",
       "      <td>nat-hyd-flo-riv</td>\n",
       "      <td>Natural</td>\n",
       "      <td>Hydrological</td>\n",
       "      <td>Flood</td>\n",
       "      <td>Riverine flood</td>\n",
       "      <td>NaN</td>\n",
       "      <td>NaN</td>\n",
       "      <td>AGO</td>\n",
       "      <td>...</td>\n",
       "      <td>NaN</td>\n",
       "      <td>NaN</td>\n",
       "      <td>NaN</td>\n",
       "      <td>NaN</td>\n",
       "      <td>10000.0</td>\n",
       "      <td>17695.0</td>\n",
       "      <td>56.514291</td>\n",
       "      <td>[{\"adm2_code\":4214,\"adm2_name\":\"Baia Farta\"},{...</td>\n",
       "      <td>2005-02-03</td>\n",
       "      <td>2023-09-25</td>\n",
       "    </tr>\n",
       "    <tr>\n",
       "      <th>4</th>\n",
       "      <td>2000-0003-BGD</td>\n",
       "      <td>No</td>\n",
       "      <td>nat-met-ext-col</td>\n",
       "      <td>Natural</td>\n",
       "      <td>Meteorological</td>\n",
       "      <td>Extreme temperature</td>\n",
       "      <td>Cold wave</td>\n",
       "      <td>NaN</td>\n",
       "      <td>NaN</td>\n",
       "      <td>BGD</td>\n",
       "      <td>...</td>\n",
       "      <td>NaN</td>\n",
       "      <td>NaN</td>\n",
       "      <td>NaN</td>\n",
       "      <td>NaN</td>\n",
       "      <td>NaN</td>\n",
       "      <td>NaN</td>\n",
       "      <td>56.514291</td>\n",
       "      <td>[{\"adm1_code\":575,\"adm1_name\":\"Barisal\"},{\"adm...</td>\n",
       "      <td>2003-07-01</td>\n",
       "      <td>2023-09-25</td>\n",
       "    </tr>\n",
       "  </tbody>\n",
       "</table>\n",
       "<p>5 rows × 46 columns</p>\n",
       "</div>"
      ],
      "text/plain": [
       "          DisNo. Historic Classification Key Disaster Group Disaster Subgroup  \\\n",
       "0  1999-9388-DJI       No    nat-cli-dro-dro        Natural    Climatological   \n",
       "1  1999-9388-SDN       No    nat-cli-dro-dro        Natural    Climatological   \n",
       "2  1999-9388-SOM       No    nat-cli-dro-dro        Natural    Climatological   \n",
       "3  2000-0002-AGO       No    nat-hyd-flo-riv        Natural      Hydrological   \n",
       "4  2000-0003-BGD       No    nat-met-ext-col        Natural    Meteorological   \n",
       "\n",
       "         Disaster Type Disaster Subtype External IDs Event Name  ISO  ...  \\\n",
       "0              Drought          Drought          NaN        NaN  DJI  ...   \n",
       "1              Drought          Drought          NaN        NaN  SDN  ...   \n",
       "2              Drought          Drought          NaN        NaN  SOM  ...   \n",
       "3                Flood   Riverine flood          NaN        NaN  AGO  ...   \n",
       "4  Extreme temperature        Cold wave          NaN        NaN  BGD  ...   \n",
       "\n",
       "  Reconstruction Costs ('000 US$) Reconstruction Costs, Adjusted ('000 US$)  \\\n",
       "0                             NaN                                       NaN   \n",
       "1                             NaN                                       NaN   \n",
       "2                             NaN                                       NaN   \n",
       "3                             NaN                                       NaN   \n",
       "4                             NaN                                       NaN   \n",
       "\n",
       "  Insured Damage ('000 US$) Insured Damage, Adjusted ('000 US$)  \\\n",
       "0                       NaN                                 NaN   \n",
       "1                       NaN                                 NaN   \n",
       "2                       NaN                                 NaN   \n",
       "3                       NaN                                 NaN   \n",
       "4                       NaN                                 NaN   \n",
       "\n",
       "  Total Damage ('000 US$) Total Damage, Adjusted ('000 US$)        CPI  \\\n",
       "0                     NaN                               NaN  58.111474   \n",
       "1                     NaN                               NaN  56.514291   \n",
       "2                     NaN                               NaN  56.514291   \n",
       "3                 10000.0                           17695.0  56.514291   \n",
       "4                     NaN                               NaN  56.514291   \n",
       "\n",
       "                                         Admin Units  Entry Date  Last Update  \n",
       "0  [{\"adm1_code\":1093,\"adm1_name\":\"Ali Sabieh\"},{...  2006-03-01   2023-09-25  \n",
       "1  [{\"adm1_code\":2757,\"adm1_name\":\"Northern Darfu...  2006-03-08   2023-09-25  \n",
       "2  [{\"adm1_code\":2691,\"adm1_name\":\"Bay\"},{\"adm1_c...  2006-03-08   2023-09-25  \n",
       "3  [{\"adm2_code\":4214,\"adm2_name\":\"Baia Farta\"},{...  2005-02-03   2023-09-25  \n",
       "4  [{\"adm1_code\":575,\"adm1_name\":\"Barisal\"},{\"adm...  2003-07-01   2023-09-25  \n",
       "\n",
       "[5 rows x 46 columns]"
      ]
     },
     "execution_count": 76,
     "metadata": {},
     "output_type": "execute_result"
    }
   ],
   "source": [
    "df_data.head()"
   ]
  },
  {
   "cell_type": "code",
   "execution_count": 77,
   "metadata": {},
   "outputs": [
    {
     "data": {
      "text/plain": [
       "Reconstruction Costs ('000 US$)              10299\n",
       "Reconstruction Costs, Adjusted ('000 US$)    10299\n",
       "AID Contribution ('000 US$)                   9849\n",
       "Insured Damage, Adjusted ('000 US$)           9638\n",
       "Insured Damage ('000 US$)                     9620\n",
       "River Basin                                   9122\n",
       "No. Homeless                                  9106\n",
       "Latitude                                      8508\n",
       "Longitude                                     8508\n",
       "Event Name                                    7795\n",
       "External IDs                                  7695\n",
       "No. Injured                                   7407\n",
       "Total Damage, Adjusted ('000 US$)             7254\n",
       "Total Damage ('000 US$)                       7135\n",
       "Magnitude                                     6996\n",
       "Associated Types                              6964\n",
       "Origin                                        6429\n",
       "No. Affected                                  3511\n",
       "Total Deaths                                  2956\n",
       "Total Affected                                1981\n",
       "Admin Units                                   1893\n",
       "Start Day                                     1515\n",
       "End Day                                       1451\n",
       "Magnitude Scale                               1089\n",
       "CPI                                            440\n",
       "Location                                       421\n",
       "End Month                                      163\n",
       "Start Month                                     68\n",
       "dtype: int64"
      ]
     },
     "execution_count": 77,
     "metadata": {},
     "output_type": "execute_result"
    }
   ],
   "source": [
    "missing_values = df_data.isnull().sum().sort_values(ascending=False)\n",
    "missing_values[missing_values > 0]"
   ]
  },
  {
   "cell_type": "code",
   "execution_count": 78,
   "metadata": {},
   "outputs": [
    {
     "data": {
      "text/plain": [
       "(10330, 26)"
      ]
     },
     "execution_count": 78,
     "metadata": {},
     "output_type": "execute_result"
    }
   ],
   "source": [
    "# Columns to drop (more than 50% missing)\n",
    "drop_cols = [\n",
    "    'Reconstruction Costs (\\'000 US$)', 'Reconstruction Costs, Adjusted (\\'000 US$)',\n",
    "    'AID Contribution (\\'000 US$)', 'Insured Damage (\\'000 US$)', \n",
    "    'Insured Damage, Adjusted (\\'000 US$)', 'Total Damage (\\'000 US$)',\n",
    "    'Total Damage, Adjusted (\\'000 US$)', 'No. Homeless',\n",
    "    'Latitude', 'Longitude', 'River Basin', 'Event Name', 'External IDs',\n",
    "    'Associated Types', 'Origin', 'Admin Units', 'Location',\n",
    "    'Start Day', 'End Day', 'Magnitude Scale'\n",
    "]\n",
    "\n",
    "# Drop columns\n",
    "df_data.drop(columns=drop_cols, inplace=True)\n",
    "\n",
    "# Check remaining dataset shape\n",
    "df_data.shape\n"
   ]
  },
  {
   "cell_type": "code",
   "execution_count": 79,
   "metadata": {},
   "outputs": [
    {
     "data": {
      "text/plain": [
       "np.int64(0)"
      ]
     },
     "execution_count": 79,
     "metadata": {},
     "output_type": "execute_result"
    }
   ],
   "source": [
    "# Fill missing values\n",
    "for col in df_data.columns:\n",
    "    if df_data[col].dtype == 'object':  # Categorical columns\n",
    "        df_data[col] = df_data[col].fillna(df_data[col].mode()[0])\n",
    "    else:  # Numerical columns\n",
    "        df_data[col] = df_data[col].fillna(df_data[col].median())\n",
    "\n",
    "# Verify no missing values\n",
    "df_data.isnull().sum().sum()\n"
   ]
  },
  {
   "cell_type": "code",
   "execution_count": 80,
   "metadata": {},
   "outputs": [
    {
     "name": "stdout",
     "output_type": "stream",
     "text": [
      "Encoded column: DisNo.\n",
      "Encoded column: Historic\n",
      "Encoded column: Classification Key\n",
      "Encoded column: Disaster Group\n",
      "Encoded column: Disaster Subgroup\n",
      "Encoded column: Disaster Type\n",
      "Encoded column: Disaster Subtype\n",
      "Encoded column: ISO\n",
      "Encoded column: Country\n",
      "Encoded column: Subregion\n",
      "Encoded column: Region\n",
      "Encoded column: OFDA/BHA Response\n",
      "Encoded column: Appeal\n",
      "Encoded column: Declaration\n",
      "Encoded column: Entry Date\n",
      "Encoded column: Last Update\n"
     ]
    }
   ],
   "source": [
    "\n",
    "\n",
    "# Identify categorical columns\n",
    "categorical_cols = df_data.select_dtypes(include=['object']).columns\n",
    "\n",
    "# Apply Label Encoding\n",
    "label_encoders = {}\n",
    "for col in categorical_cols:\n",
    "    le = LabelEncoder()\n",
    "    df_data[col] = le.fit_transform(df_data[col])\n",
    "    label_encoders[col] = le  # Store encoders for future use\n",
    "    print(f\"Encoded column: {col}\")\n"
   ]
  },
  {
   "cell_type": "code",
   "execution_count": 81,
   "metadata": {},
   "outputs": [
    {
     "name": "stdout",
     "output_type": "stream",
     "text": [
      "Numerical columns: ['DisNo.', 'Historic', 'Classification Key', 'Disaster Group', 'Disaster Subgroup', 'Disaster Type', 'Disaster Subtype', 'ISO', 'Country', 'Subregion', 'Region', 'OFDA/BHA Response', 'Appeal', 'Declaration', 'Magnitude', 'Start Year', 'Start Month', 'End Year', 'End Month', 'Total Deaths', 'No. Injured', 'No. Affected', 'Total Affected', 'CPI', 'Entry Date', 'Last Update']\n",
      "Numerical columns after scaling:\n",
      "     DisNo.  Historic  Classification Key  Disaster Group  Disaster Subgroup  \\\n",
      "0 -1.731883       0.0           -1.508666             0.0          -1.741811   \n",
      "1 -1.731548       0.0           -1.508666             0.0          -1.741811   \n",
      "2 -1.731212       0.0           -1.508666             0.0          -1.741811   \n",
      "3 -1.730877       0.0           -0.012910             0.0           0.218841   \n",
      "4 -1.730542       0.0            0.459434             0.0           0.872392   \n",
      "\n",
      "   Disaster Type  Disaster Subtype       ISO   Country  Subregion  ...  \\\n",
      "0      -1.582310         -1.078088 -0.893428 -0.833825   1.055412  ...   \n",
      "1      -1.582310         -1.078088  0.927472  1.171502  -0.411881  ...   \n",
      "2      -1.582310         -1.078088  1.033691  1.080351   1.055412  ...   \n",
      "3      -0.446572          0.554804 -1.606614 -1.593418   1.055412  ...   \n",
      "4      -0.730506         -1.323022 -1.379001 -1.456692   0.636186  ...   \n",
      "\n",
      "   Start Month  End Year  End Month  Total Deaths  No. Injured  No. Affected  \\\n",
      "0    -0.123461 -1.448674   0.113261     -0.043023    -0.036527     -0.063285   \n",
      "1    -1.603331 -1.448674   0.113261     -0.043023    -0.036527      0.271590   \n",
      "2    -1.603331 -1.448674   0.113261     -0.040395    -0.036527      0.130590   \n",
      "3    -1.603331 -1.582776  -1.688570     -0.037476    -0.036527     -0.068573   \n",
      "4    -1.603331 -1.582776  -1.688570     -0.032221    -0.036527     -0.079218   \n",
      "\n",
      "   Total Affected       CPI  Entry Date  Last Update  \n",
      "0       -0.063701 -1.368935   -1.000940    -0.327874  \n",
      "1        0.271075 -1.507103   -0.996339    -0.327874  \n",
      "2        0.130117 -1.507103   -0.996339    -0.327874  \n",
      "3       -0.068987 -1.507103   -1.211017    -0.327874  \n",
      "4       -0.080405 -1.507103   -1.457896    -0.327874  \n",
      "\n",
      "[5 rows x 26 columns]\n"
     ]
    }
   ],
   "source": [
    "# Scaling numerical features\n",
    "numerical_cols = df_data.select_dtypes(include=['float64', 'int64']).columns\n",
    "print(f\"Numerical columns: {numerical_cols.tolist()}\")\n",
    "scaler = StandardScaler()\n",
    "df_data[numerical_cols] = scaler.fit_transform(df_data[numerical_cols])\n",
    "print(f\"Numerical columns after scaling:\\n{df_data[numerical_cols].head()}\")"
   ]
  },
  {
   "cell_type": "code",
   "execution_count": 82,
   "metadata": {},
   "outputs": [
    {
     "name": "stdout",
     "output_type": "stream",
     "text": [
      "Numerical columns: ['DisNo.', 'Historic', 'Classification Key', 'Disaster Group', 'Disaster Subgroup', 'Disaster Type', 'Disaster Subtype', 'ISO', 'Country', 'Subregion', 'Region', 'OFDA/BHA Response', 'Appeal', 'Declaration', 'Magnitude', 'Start Year', 'Start Month', 'End Year', 'End Month', 'Total Deaths', 'No. Injured', 'No. Affected', 'Total Affected', 'CPI', 'Entry Date', 'Last Update']\n",
      "Numerical columns after scaling:\n",
      "     DisNo.  Historic  Classification Key  Disaster Group  Disaster Subgroup  \\\n",
      "0 -1.731883       0.0           -1.508666             0.0          -1.741811   \n",
      "1 -1.731548       0.0           -1.508666             0.0          -1.741811   \n",
      "2 -1.731212       0.0           -1.508666             0.0          -1.741811   \n",
      "3 -1.730877       0.0           -0.012910             0.0           0.218841   \n",
      "4 -1.730542       0.0            0.459434             0.0           0.872392   \n",
      "\n",
      "   Disaster Type  Disaster Subtype       ISO   Country  Subregion  ...  \\\n",
      "0      -1.582310         -1.078088 -0.893428 -0.833825   1.055412  ...   \n",
      "1      -1.582310         -1.078088  0.927472  1.171502  -0.411881  ...   \n",
      "2      -1.582310         -1.078088  1.033691  1.080351   1.055412  ...   \n",
      "3      -0.446572          0.554804 -1.606614 -1.593418   1.055412  ...   \n",
      "4      -0.730506         -1.323022 -1.379001 -1.456692   0.636186  ...   \n",
      "\n",
      "   Start Month  End Year  End Month  Total Deaths  No. Injured  No. Affected  \\\n",
      "0    -0.123461 -1.448674   0.113261     -0.043023    -0.036527     -0.063285   \n",
      "1    -1.603331 -1.448674   0.113261     -0.043023    -0.036527      0.271590   \n",
      "2    -1.603331 -1.448674   0.113261     -0.040395    -0.036527      0.130590   \n",
      "3    -1.603331 -1.582776  -1.688570     -0.037476    -0.036527     -0.068573   \n",
      "4    -1.603331 -1.582776  -1.688570     -0.032221    -0.036527     -0.079218   \n",
      "\n",
      "   Total Affected       CPI  Entry Date  Last Update  \n",
      "0       -0.063701 -1.368935   -1.000940    -0.327874  \n",
      "1        0.271075 -1.507103   -0.996339    -0.327874  \n",
      "2        0.130117 -1.507103   -0.996339    -0.327874  \n",
      "3       -0.068987 -1.507103   -1.211017    -0.327874  \n",
      "4       -0.080405 -1.507103   -1.457896    -0.327874  \n",
      "\n",
      "[5 rows x 26 columns]\n"
     ]
    }
   ],
   "source": [
    "# Scaling numerical features\n",
    "numerical_cols = df_data.select_dtypes(include=['float64', 'int64']).columns\n",
    "print(f\"Numerical columns: {numerical_cols.tolist()}\")\n",
    "scaler = StandardScaler()\n",
    "df_data[numerical_cols] = scaler.fit_transform(df_data[numerical_cols])\n",
    "print(f\"Numerical columns after scaling:\\n{df_data[numerical_cols].head()}\")\n",
    "Q1 = df_data[numerical_cols].quantile(0.25)\n",
    "Q3 = df_data[numerical_cols].quantile(0.75)\n",
    "IQR = Q3 - Q1\n",
    "outliers = ((df_data[numerical_cols] < (Q1 - 1.5 * IQR)) | (df_data[numerical_cols] > (Q3 + 1.5 * IQR)))"
   ]
  },
  {
   "cell_type": "code",
   "execution_count": 83,
   "metadata": {},
   "outputs": [
    {
     "name": "stdout",
     "output_type": "stream",
     "text": [
      "Unique values in 'DisNo.': 10330\n",
      "Unique values in 'Entry Date': 2186\n",
      "Unique values in 'Last Update': 162\n"
     ]
    }
   ],
   "source": [
    "print(\"Unique values in 'DisNo.':\", df_data[\"DisNo.\"].nunique())\n",
    "print(\"Unique values in 'Entry Date':\", df_data[\"Entry Date\"].nunique())\n",
    "print(\"Unique values in 'Last Update':\", df_data[\"Last Update\"].nunique())\n"
   ]
  },
  {
   "cell_type": "code",
   "execution_count": 84,
   "metadata": {},
   "outputs": [
    {
     "name": "stdout",
     "output_type": "stream",
     "text": [
      "Dropped 'DisNo.' as it's a unique identifier.\n"
     ]
    }
   ],
   "source": [
    "df_data.drop(columns=[\"DisNo.\"], inplace=True)\n",
    "print(\"Dropped 'DisNo.' as it's a unique identifier.\")\n"
   ]
  },
  {
   "cell_type": "code",
   "execution_count": 85,
   "metadata": {},
   "outputs": [
    {
     "name": "stdout",
     "output_type": "stream",
     "text": [
      "Converted 'Entry Date' and 'Last Update' to datetime format.\n"
     ]
    }
   ],
   "source": [
    "df_data[\"Entry Date\"] = pd.to_datetime(df_data[\"Entry Date\"], errors=\"coerce\")\n",
    "df_data[\"Last Update\"] = pd.to_datetime(df_data[\"Last Update\"], errors=\"coerce\")\n",
    "\n",
    "print(\"Converted 'Entry Date' and 'Last Update' to datetime format.\")\n"
   ]
  },
  {
   "cell_type": "code",
   "execution_count": 86,
   "metadata": {},
   "outputs": [
    {
     "name": "stdout",
     "output_type": "stream",
     "text": [
      "Extracted year, month, and days between Entry Date and Last Update.\n"
     ]
    }
   ],
   "source": [
    "df_data[\"Entry Year\"] = df_data[\"Entry Date\"].dt.year\n",
    "df_data[\"Entry Month\"] = df_data[\"Entry Date\"].dt.month\n",
    "df_data[\"Last Update Year\"] = df_data[\"Last Update\"].dt.year\n",
    "df_data[\"Last Update Month\"] = df_data[\"Last Update\"].dt.month\n",
    "df_data[\"Days Since Entry\"] = (df_data[\"Last Update\"] - df_data[\"Entry Date\"]).dt.days\n",
    "\n",
    "print(\"Extracted year, month, and days between Entry Date and Last Update.\")\n"
   ]
  },
  {
   "cell_type": "code",
   "execution_count": 87,
   "metadata": {},
   "outputs": [
    {
     "name": "stdout",
     "output_type": "stream",
     "text": [
      "                     Entry Date Last Update  Entry Year  Entry Month  \\\n",
      "0 1969-12-31 23:59:59.999999999  1970-01-01        1969           12   \n",
      "1 1970-01-01 00:00:00.000000000  1970-01-01        1970            1   \n",
      "2 1970-01-01 00:00:00.000000000  1970-01-01        1970            1   \n",
      "3 1969-12-31 23:59:59.999999999  1970-01-01        1969           12   \n",
      "4 1969-12-31 23:59:59.999999999  1970-01-01        1969           12   \n",
      "\n",
      "   Days Since Entry  \n",
      "0                 0  \n",
      "1                 0  \n",
      "2                 0  \n",
      "3                 0  \n",
      "4                 0  \n"
     ]
    }
   ],
   "source": [
    "print(df_data[[\"Entry Date\", \"Last Update\", \"Entry Year\", \"Entry Month\", \"Days Since Entry\"]].head())\n"
   ]
  },
  {
   "cell_type": "code",
   "execution_count": 88,
   "metadata": {},
   "outputs": [
    {
     "name": "stdout",
     "output_type": "stream",
     "text": [
      "2\n",
      "count    10330.000000\n",
      "mean        -0.142207\n",
      "std          0.349279\n",
      "min         -1.000000\n",
      "25%          0.000000\n",
      "50%          0.000000\n",
      "75%          0.000000\n",
      "max          0.000000\n",
      "Name: Days Since Entry, dtype: float64\n"
     ]
    }
   ],
   "source": [
    "print(df_data[\"Days Since Entry\"].nunique())\n",
    "print(df_data[\"Days Since Entry\"].describe())\n"
   ]
  },
  {
   "cell_type": "code",
   "execution_count": 89,
   "metadata": {},
   "outputs": [
    {
     "name": "stdout",
     "output_type": "stream",
     "text": [
      "Dropped 'Days Since Entry' as it had minimal variance.\n"
     ]
    }
   ],
   "source": [
    "df_data.drop(columns=[\"Days Since Entry\"], inplace=True)\n",
    "print(\"Dropped 'Days Since Entry' as it had minimal variance.\")\n"
   ]
  },
  {
   "cell_type": "code",
   "execution_count": 90,
   "metadata": {},
   "outputs": [
    {
     "name": "stdout",
     "output_type": "stream",
     "text": [
      "Historic              0\n",
      "Classification Key    0\n",
      "Disaster Group        0\n",
      "Disaster Subgroup     0\n",
      "Disaster Type         0\n",
      "Disaster Subtype      0\n",
      "ISO                   0\n",
      "Country               0\n",
      "Subregion             0\n",
      "Region                0\n",
      "OFDA/BHA Response     0\n",
      "Appeal                0\n",
      "Declaration           0\n",
      "Magnitude             0\n",
      "Start Year            0\n",
      "Start Month           0\n",
      "End Year              0\n",
      "End Month             0\n",
      "Total Deaths          0\n",
      "No. Injured           0\n",
      "No. Affected          0\n",
      "Total Affected        0\n",
      "CPI                   0\n",
      "Entry Date            0\n",
      "Last Update           0\n",
      "Entry Year            0\n",
      "Entry Month           0\n",
      "Last Update Year      0\n",
      "Last Update Month     0\n",
      "dtype: int64\n"
     ]
    }
   ],
   "source": [
    "print(df_data.isnull().sum())\n"
   ]
  },
  {
   "cell_type": "code",
   "execution_count": 91,
   "metadata": {},
   "outputs": [
    {
     "name": "stdout",
     "output_type": "stream",
     "text": [
      "Historic                 1\n",
      "Classification Key      46\n",
      "Disaster Group           1\n",
      "Disaster Subgroup        6\n",
      "Disaster Type           14\n",
      "Disaster Subtype        46\n",
      "ISO                    220\n",
      "Country                220\n",
      "Subregion               17\n",
      "Region                   5\n",
      "OFDA/BHA Response        2\n",
      "Appeal                   2\n",
      "Declaration              2\n",
      "Magnitude             1632\n",
      "Start Year              26\n",
      "Start Month             12\n",
      "End Year                26\n",
      "End Month               12\n",
      "Total Deaths           544\n",
      "No. Injured            635\n",
      "No. Affected          3108\n",
      "Total Affected        4212\n",
      "CPI                     24\n",
      "Entry Date               3\n",
      "Last Update              5\n",
      "Entry Year               2\n",
      "Entry Month              2\n",
      "Last Update Year         1\n",
      "Last Update Month        1\n",
      "dtype: int64\n"
     ]
    }
   ],
   "source": [
    "print(df_data.nunique())\n"
   ]
  },
  {
   "cell_type": "code",
   "execution_count": 92,
   "metadata": {},
   "outputs": [
    {
     "name": "stdout",
     "output_type": "stream",
     "text": [
      "Final shape of dataset: (10330, 23)\n",
      "Remaining columns: ['Classification Key', 'Disaster Subgroup', 'Disaster Type', 'Disaster Subtype', 'ISO', 'Country', 'Subregion', 'Region', 'OFDA/BHA Response', 'Appeal', 'Declaration', 'Magnitude', 'Start Year', 'Start Month', 'End Year', 'End Month', 'Total Deaths', 'No. Injured', 'No. Affected', 'Total Affected', 'CPI', 'Entry Year', 'Entry Month']\n"
     ]
    }
   ],
   "source": [
    "# Dropping constant and redundant columns\n",
    "drop_cols = [\"Historic\", \"Disaster Group\", \"Last Update Year\", \"Last Update Month\", \"Entry Date\", \"Last Update\"]\n",
    "df_data = df_data.drop(columns=drop_cols, errors='ignore')\n",
    "\n",
    "# Print final dataset info\n",
    "print(f\"Final shape of dataset: {df_data.shape}\")\n",
    "print(f\"Remaining columns: {df_data.columns.tolist()}\")\n"
   ]
  },
  {
   "cell_type": "code",
   "execution_count": 98,
   "metadata": {},
   "outputs": [
    {
     "name": "stdout",
     "output_type": "stream",
     "text": [
      "Index(['Classification Key', 'Disaster Subgroup', 'Disaster Type',\n",
      "       'Disaster Subtype', 'ISO', 'Country', 'Subregion', 'Region',\n",
      "       'OFDA/BHA Response', 'Appeal', 'Declaration', 'Magnitude', 'Start Year',\n",
      "       'Start Month', 'End Year', 'End Month', 'Total Deaths', 'No. Injured',\n",
      "       'No. Affected', 'Total Affected', 'CPI', 'Entry Year', 'Entry Month'],\n",
      "      dtype='object')\n"
     ]
    }
   ],
   "source": [
    "# Check the columns that remain after preprocessing\n",
    "print(df_data.columns)\n"
   ]
  },
  {
   "cell_type": "code",
   "execution_count": 99,
   "metadata": {},
   "outputs": [],
   "source": [
    "numerical_cols = df_data.select_dtypes(include=['float64', 'int64']).columns\n"
   ]
  },
  {
   "cell_type": "code",
   "execution_count": 100,
   "metadata": {},
   "outputs": [
    {
     "name": "stdout",
     "output_type": "stream",
     "text": [
      "Outlier counts per column:\n",
      "Classification Key    1328\n",
      "Disaster Subgroup     1658\n",
      "Disaster Type            0\n",
      "Disaster Subtype         0\n",
      "ISO                      0\n",
      "Country                  0\n",
      "Subregion                0\n",
      "Region                 383\n",
      "OFDA/BHA Response      651\n",
      "Appeal                 172\n",
      "Declaration           1078\n",
      "Magnitude             3308\n",
      "Start Year               0\n",
      "Start Month              0\n",
      "End Year                 0\n",
      "End Month                0\n",
      "Total Deaths          1539\n",
      "No. Injured           2903\n",
      "No. Affected          1960\n",
      "Total Affected        1887\n",
      "CPI                      0\n",
      "dtype: int64\n"
     ]
    }
   ],
   "source": [
    "# Calculate IQR for the numerical columns\n",
    "Q1 = df_data[numerical_cols].quantile(0.25)\n",
    "Q3 = df_data[numerical_cols].quantile(0.75)\n",
    "IQR = Q3 - Q1\n",
    "\n",
    "# Identify outliers based on IQR rule\n",
    "outliers = (df_data[numerical_cols] < (Q1 - 1.5 * IQR)) | (df_data[numerical_cols] > (Q3 + 1.5 * IQR))\n",
    "\n",
    "# Count outliers in each column\n",
    "outlier_counts = outliers.sum()\n",
    "print(\"Outlier counts per column:\")\n",
    "print(outlier_counts)\n"
   ]
  },
  {
   "cell_type": "code",
   "execution_count": 101,
   "metadata": {},
   "outputs": [
    {
     "name": "stdout",
     "output_type": "stream",
     "text": [
      "\n",
      "Classification Key value counts:\n",
      "Classification Key\n",
      "-0.012910    2011\n",
      " 1.482847    1378\n",
      "-0.091634    1371\n",
      "-0.170358     708\n",
      "-1.036322     645\n",
      "-1.981011     429\n",
      "-1.508666     419\n",
      " 0.144538     379\n",
      "-1.744839     351\n",
      " 1.246675     337\n",
      " 0.538158     243\n",
      " 1.167951     232\n",
      " 0.459434     225\n",
      "-1.351218     196\n",
      " 0.695606     185\n",
      " 1.010503     172\n",
      " 1.404123     169\n",
      " 0.853055     144\n",
      "-0.642702     104\n",
      "-1.193770      82\n",
      "-1.902287      81\n",
      " 0.616882      75\n",
      " 0.065814      54\n",
      " 0.931779      51\n",
      "-1.272494      46\n",
      " 0.223262      42\n",
      "-0.249082      40\n",
      "-0.957598      30\n",
      "-1.666115      27\n",
      "-1.823563      18\n",
      " 1.089227      16\n",
      "-0.327806      11\n",
      "-0.485254      11\n",
      " 1.325399      10\n",
      "-0.800150       9\n",
      " 0.774331       6\n",
      "-1.429942       5\n",
      "-0.721426       4\n",
      "-0.406530       4\n",
      " 0.301986       3\n",
      "-1.587391       2\n",
      " 0.380710       1\n",
      "-1.115046       1\n",
      "-0.878874       1\n",
      "-2.059735       1\n",
      "-0.563978       1\n",
      "Name: count, dtype: int64\n",
      "\n",
      "Disaster Subgroup value counts:\n",
      "Disaster Subgroup\n",
      " 0.218841    4609\n",
      " 0.872392    3243\n",
      "-2.395362     909\n",
      "-0.434709     820\n",
      "-1.741811     748\n",
      "-1.088260       1\n",
      "Name: count, dtype: int64\n",
      "\n",
      "Region value counts:\n",
      "Region\n",
      " 0.420961    4021\n",
      "-0.510799    2405\n",
      "-1.442560    2183\n",
      " 1.352721    1338\n",
      " 2.284481     383\n",
      "Name: count, dtype: int64\n",
      "\n",
      "OFDA/BHA Response value counts:\n",
      "OFDA/BHA Response\n",
      "-0.259343    9679\n",
      " 3.855891     651\n",
      "Name: count, dtype: int64\n",
      "\n",
      "Appeal value counts:\n",
      "Appeal\n",
      "-0.130125    10158\n",
      " 7.684929      172\n",
      "Name: count, dtype: int64\n",
      "\n",
      "Declaration value counts:\n",
      "Declaration\n",
      "-0.341343    9252\n",
      " 2.929601    1078\n",
      "Name: count, dtype: int64\n",
      "\n",
      "Magnitude value counts:\n",
      "Magnitude\n",
      "-0.097890    7022\n",
      "-0.098515      65\n",
      "-0.098327      51\n",
      "-0.098390      49\n",
      "-0.098202      47\n",
      "             ... \n",
      " 0.163120       1\n",
      "-0.098290       1\n",
      "-0.098829       1\n",
      " 0.594636       1\n",
      "-0.098847       1\n",
      "Name: count, Length: 1632, dtype: int64\n"
     ]
    }
   ],
   "source": [
    "# Check frequency distribution of each categorical column\n",
    "for col in ['Classification Key', 'Disaster Subgroup', 'Region', 'OFDA/BHA Response', 'Appeal', 'Declaration', 'Magnitude']:\n",
    "    print(f\"\\n{col} value counts:\")\n",
    "    print(df_data[col].value_counts())"
   ]
  },
  {
   "cell_type": "code",
   "execution_count": null,
   "metadata": {},
   "outputs": [],
   "source": []
  }
 ],
 "metadata": {
  "kernelspec": {
   "display_name": "myvenv",
   "language": "python",
   "name": "python3"
  },
  "language_info": {
   "codemirror_mode": {
    "name": "ipython",
    "version": 3
   },
   "file_extension": ".py",
   "mimetype": "text/x-python",
   "name": "python",
   "nbconvert_exporter": "python",
   "pygments_lexer": "ipython3",
   "version": "3.13.1"
  }
 },
 "nbformat": 4,
 "nbformat_minor": 2
}
